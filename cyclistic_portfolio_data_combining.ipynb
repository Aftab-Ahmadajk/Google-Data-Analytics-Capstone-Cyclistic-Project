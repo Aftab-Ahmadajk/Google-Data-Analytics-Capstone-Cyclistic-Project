{
 "cells": [
  {
   "cell_type": "markdown",
   "metadata": {},
   "source": [
    "## Import Libraries"
   ]
  },
  {
   "cell_type": "markdown",
   "metadata": {},
   "source": [
    "Before getting started, we will need to import all the required libraries and extensions. Throughout the course, we will be using pandas for operations, and matplotlib and seaborn for plotting."
   ]
  },
  {
   "cell_type": "code",
   "execution_count": 2,
   "metadata": {},
   "outputs": [
    {
     "name": "stdout",
     "output_type": "stream",
     "text": [
      "The libraries have been successfully imported.\n"
     ]
    }
   ],
   "source": [
    "# Import the libraries.\n",
    "import pandas as pd\n",
    "import seaborn as sns\n",
    "import numpy as np\n",
    "import matplotlib.pyplot as plt\n",
    "import datetime\n",
    "print('The libraries have been successfully imported.')"
   ]
  },
  {
   "cell_type": "markdown",
   "metadata": {},
   "source": [
    "# Imports, links and Loading"
   ]
  },
  {
   "cell_type": "code",
   "execution_count": 3,
   "metadata": {},
   "outputs": [
    {
     "name": "stdout",
     "output_type": "stream",
     "text": [
      "CSV files have been successfully imported.\n"
     ]
    }
   ],
   "source": [
    "# Importing the 12 Months Cyclistic Trip Data.\n",
    "jan_2023_tripdata = pd.read_csv('1-divvy-tripdata-jan-2023.csv')\n",
    "feb_2023_tripdata = pd.read_csv('2-divvy-tripdata-feb-2023.csv')\n",
    "mar_2023_tripdata = pd.read_csv('3-divvy-tripdata-mar-2023.csv')\n",
    "apr_2023_tripdata = pd.read_csv('4-divvy-tripdata-apr-2023.csv')\n",
    "may_2023_tripdata = pd.read_csv('5-divvy-tripdata-may-2023.csv')\n",
    "jun_2023_tripdata = pd.read_csv('6-divvy-tripdata-jun-2023.csv')\n",
    "jul_2023_tripdata = pd.read_csv('7-divvy-tripdata-jul-2023.csv')\n",
    "aug_2023_tripdata = pd.read_csv('8-divvy-tripdata-aug-2023.csv')\n",
    "sep_2023_tripdata = pd.read_csv('9-divvy-tripdata-sep-2023.csv')\n",
    "oct_2023_tripdata = pd.read_csv('10-divvy-tripdata-oct-2023.csv')\n",
    "nov_2023_tripdata = pd.read_csv('11-divvy-tripdata-nov-2023.csv')\n",
    "dec_2023_tripdata = pd.read_csv('12-divvy-tripdata-dec-2023.csv')\n",
    "print('CSV files have been successfully imported.')"
   ]
  },
  {
   "cell_type": "markdown",
   "metadata": {},
   "source": [
    "### Combining 12 month cyclistic trip data sets into a single dataset."
   ]
  },
  {
   "cell_type": "code",
   "execution_count": 4,
   "metadata": {},
   "outputs": [
    {
     "name": "stdout",
     "output_type": "stream",
     "text": [
      "12 month datasets  have  been successfully merged.\"\n"
     ]
    }
   ],
   "source": [
    "# Combine the data using concat() function.\n",
    "tripdata = pd.concat([jan_2023_tripdata, feb_2023_tripdata,mar_2023_tripdata, apr_2023_tripdata, may_2023_tripdata, jun_2023_tripdata, jul_2023_tripdata, aug_2023_tripdata, sep_2023_tripdata, oct_2023_tripdata, nov_2023_tripdata, dec_2023_tripdata])\n",
    "print('12 month datasets  have  been successfully merged.\"')"
   ]
  }
 ],
 "metadata": {
  "kernelspec": {
   "display_name": "Python 3",
   "language": "python",
   "name": "python3"
  },
  "language_info": {
   "codemirror_mode": {
    "name": "ipython",
    "version": 3
   },
   "file_extension": ".py",
   "mimetype": "text/x-python",
   "name": "python",
   "nbconvert_exporter": "python",
   "pygments_lexer": "ipython3",
   "version": "3.11.5"
  },
  "orig_nbformat": 4
 },
 "nbformat": 4,
 "nbformat_minor": 2
}
