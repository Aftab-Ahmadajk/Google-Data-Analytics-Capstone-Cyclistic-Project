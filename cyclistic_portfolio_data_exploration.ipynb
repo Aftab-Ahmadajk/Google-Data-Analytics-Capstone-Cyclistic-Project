{
 "cells": [
  {
   "cell_type": "markdown",
   "metadata": {},
   "source": [
    "## **`Data Exploration`**"
   ]
  },
  {
   "cell_type": "code",
   "execution_count": 5,
   "metadata": {},
   "outputs": [
    {
     "data": {
      "text/html": [
       "<div>\n",
       "<style scoped>\n",
       "    .dataframe tbody tr th:only-of-type {\n",
       "        vertical-align: middle;\n",
       "    }\n",
       "\n",
       "    .dataframe tbody tr th {\n",
       "        vertical-align: top;\n",
       "    }\n",
       "\n",
       "    .dataframe thead th {\n",
       "        text-align: right;\n",
       "    }\n",
       "</style>\n",
       "<table border=\"1\" class=\"dataframe\">\n",
       "  <thead>\n",
       "    <tr style=\"text-align: right;\">\n",
       "      <th></th>\n",
       "      <th>ride_id</th>\n",
       "      <th>rideable_type</th>\n",
       "      <th>started_at</th>\n",
       "      <th>ended_at</th>\n",
       "      <th>start_station_name</th>\n",
       "      <th>start_station_id</th>\n",
       "      <th>end_station_name</th>\n",
       "      <th>end_station_id</th>\n",
       "      <th>start_lat</th>\n",
       "      <th>start_lng</th>\n",
       "      <th>end_lat</th>\n",
       "      <th>end_lng</th>\n",
       "      <th>member_casual</th>\n",
       "    </tr>\n",
       "  </thead>\n",
       "  <tbody>\n",
       "    <tr>\n",
       "      <th>0</th>\n",
       "      <td>F96D5A74A3E41399</td>\n",
       "      <td>electric_bike</td>\n",
       "      <td>2023-01-21 20:05:42</td>\n",
       "      <td>2023-01-21 20:16:33</td>\n",
       "      <td>Lincoln Ave &amp; Fullerton Ave</td>\n",
       "      <td>TA1309000058</td>\n",
       "      <td>Hampden Ct &amp; Diversey Ave</td>\n",
       "      <td>202480.0</td>\n",
       "      <td>41.924074</td>\n",
       "      <td>-87.646278</td>\n",
       "      <td>41.930000</td>\n",
       "      <td>-87.640000</td>\n",
       "      <td>member</td>\n",
       "    </tr>\n",
       "    <tr>\n",
       "      <th>1</th>\n",
       "      <td>13CB7EB698CEDB88</td>\n",
       "      <td>classic_bike</td>\n",
       "      <td>2023-01-10 15:37:36</td>\n",
       "      <td>2023-01-10 15:46:05</td>\n",
       "      <td>Kimbark Ave &amp; 53rd St</td>\n",
       "      <td>TA1309000037</td>\n",
       "      <td>Greenwood Ave &amp; 47th St</td>\n",
       "      <td>TA1308000002</td>\n",
       "      <td>41.799568</td>\n",
       "      <td>-87.594747</td>\n",
       "      <td>41.809835</td>\n",
       "      <td>-87.599383</td>\n",
       "      <td>member</td>\n",
       "    </tr>\n",
       "    <tr>\n",
       "      <th>2</th>\n",
       "      <td>BD88A2E670661CE5</td>\n",
       "      <td>electric_bike</td>\n",
       "      <td>2023-01-02 07:51:57</td>\n",
       "      <td>2023-01-02 08:05:11</td>\n",
       "      <td>Western Ave &amp; Lunt Ave</td>\n",
       "      <td>RP-005</td>\n",
       "      <td>Valli Produce - Evanston Plaza</td>\n",
       "      <td>599</td>\n",
       "      <td>42.008571</td>\n",
       "      <td>-87.690483</td>\n",
       "      <td>42.039742</td>\n",
       "      <td>-87.699413</td>\n",
       "      <td>casual</td>\n",
       "    </tr>\n",
       "    <tr>\n",
       "      <th>3</th>\n",
       "      <td>C90792D034FED968</td>\n",
       "      <td>classic_bike</td>\n",
       "      <td>2023-01-22 10:52:58</td>\n",
       "      <td>2023-01-22 11:01:44</td>\n",
       "      <td>Kimbark Ave &amp; 53rd St</td>\n",
       "      <td>TA1309000037</td>\n",
       "      <td>Greenwood Ave &amp; 47th St</td>\n",
       "      <td>TA1308000002</td>\n",
       "      <td>41.799568</td>\n",
       "      <td>-87.594747</td>\n",
       "      <td>41.809835</td>\n",
       "      <td>-87.599383</td>\n",
       "      <td>member</td>\n",
       "    </tr>\n",
       "    <tr>\n",
       "      <th>4</th>\n",
       "      <td>3397017529188E8A</td>\n",
       "      <td>classic_bike</td>\n",
       "      <td>2023-01-12 13:58:01</td>\n",
       "      <td>2023-01-12 14:13:20</td>\n",
       "      <td>Kimbark Ave &amp; 53rd St</td>\n",
       "      <td>TA1309000037</td>\n",
       "      <td>Greenwood Ave &amp; 47th St</td>\n",
       "      <td>TA1308000002</td>\n",
       "      <td>41.799568</td>\n",
       "      <td>-87.594747</td>\n",
       "      <td>41.809835</td>\n",
       "      <td>-87.599383</td>\n",
       "      <td>member</td>\n",
       "    </tr>\n",
       "  </tbody>\n",
       "</table>\n",
       "</div>"
      ],
      "text/plain": [
       "            ride_id  rideable_type           started_at             ended_at  \\\n",
       "0  F96D5A74A3E41399  electric_bike  2023-01-21 20:05:42  2023-01-21 20:16:33   \n",
       "1  13CB7EB698CEDB88   classic_bike  2023-01-10 15:37:36  2023-01-10 15:46:05   \n",
       "2  BD88A2E670661CE5  electric_bike  2023-01-02 07:51:57  2023-01-02 08:05:11   \n",
       "3  C90792D034FED968   classic_bike  2023-01-22 10:52:58  2023-01-22 11:01:44   \n",
       "4  3397017529188E8A   classic_bike  2023-01-12 13:58:01  2023-01-12 14:13:20   \n",
       "\n",
       "            start_station_name start_station_id  \\\n",
       "0  Lincoln Ave & Fullerton Ave     TA1309000058   \n",
       "1        Kimbark Ave & 53rd St     TA1309000037   \n",
       "2       Western Ave & Lunt Ave           RP-005   \n",
       "3        Kimbark Ave & 53rd St     TA1309000037   \n",
       "4        Kimbark Ave & 53rd St     TA1309000037   \n",
       "\n",
       "                 end_station_name end_station_id  start_lat  start_lng  \\\n",
       "0       Hampden Ct & Diversey Ave       202480.0  41.924074 -87.646278   \n",
       "1         Greenwood Ave & 47th St   TA1308000002  41.799568 -87.594747   \n",
       "2  Valli Produce - Evanston Plaza            599  42.008571 -87.690483   \n",
       "3         Greenwood Ave & 47th St   TA1308000002  41.799568 -87.594747   \n",
       "4         Greenwood Ave & 47th St   TA1308000002  41.799568 -87.594747   \n",
       "\n",
       "     end_lat    end_lng member_casual  \n",
       "0  41.930000 -87.640000        member  \n",
       "1  41.809835 -87.599383        member  \n",
       "2  42.039742 -87.699413        casual  \n",
       "3  41.809835 -87.599383        member  \n",
       "4  41.809835 -87.599383        member  "
      ]
     },
     "execution_count": 5,
     "metadata": {},
     "output_type": "execute_result"
    }
   ],
   "source": [
    "# Lets discovering the data by head function.\n",
    "tripdata.head()"
   ]
  },
  {
   "cell_type": "code",
   "execution_count": 6,
   "metadata": {},
   "outputs": [
    {
     "data": {
      "text/plain": [
       "74358401"
      ]
     },
     "execution_count": 6,
     "metadata": {},
     "output_type": "execute_result"
    }
   ],
   "source": [
    "tripdata.size"
   ]
  },
  {
   "cell_type": "code",
   "execution_count": 7,
   "metadata": {},
   "outputs": [
    {
     "data": {
      "text/plain": [
       "(5719877, 13)"
      ]
     },
     "execution_count": 7,
     "metadata": {},
     "output_type": "execute_result"
    }
   ],
   "source": [
    "# Shape of the data.\n",
    "tripdata.shape"
   ]
  },
  {
   "cell_type": "code",
   "execution_count": 8,
   "metadata": {},
   "outputs": [
    {
     "data": {
      "text/html": [
       "<div>\n",
       "<style scoped>\n",
       "    .dataframe tbody tr th:only-of-type {\n",
       "        vertical-align: middle;\n",
       "    }\n",
       "\n",
       "    .dataframe tbody tr th {\n",
       "        vertical-align: top;\n",
       "    }\n",
       "\n",
       "    .dataframe thead th {\n",
       "        text-align: right;\n",
       "    }\n",
       "</style>\n",
       "<table border=\"1\" class=\"dataframe\">\n",
       "  <thead>\n",
       "    <tr style=\"text-align: right;\">\n",
       "      <th></th>\n",
       "      <th>start_lat</th>\n",
       "      <th>start_lng</th>\n",
       "      <th>end_lat</th>\n",
       "      <th>end_lng</th>\n",
       "    </tr>\n",
       "  </thead>\n",
       "  <tbody>\n",
       "    <tr>\n",
       "      <th>count</th>\n",
       "      <td>5.719877e+06</td>\n",
       "      <td>5.719877e+06</td>\n",
       "      <td>5.712887e+06</td>\n",
       "      <td>5.712887e+06</td>\n",
       "    </tr>\n",
       "    <tr>\n",
       "      <th>mean</th>\n",
       "      <td>4.190288e+01</td>\n",
       "      <td>-8.764704e+01</td>\n",
       "      <td>4.190322e+01</td>\n",
       "      <td>-8.764720e+01</td>\n",
       "    </tr>\n",
       "    <tr>\n",
       "      <th>std</th>\n",
       "      <td>4.505556e-02</td>\n",
       "      <td>2.733412e-02</td>\n",
       "      <td>5.444371e-02</td>\n",
       "      <td>6.919621e-02</td>\n",
       "    </tr>\n",
       "    <tr>\n",
       "      <th>min</th>\n",
       "      <td>4.163000e+01</td>\n",
       "      <td>-8.794000e+01</td>\n",
       "      <td>0.000000e+00</td>\n",
       "      <td>-8.816000e+01</td>\n",
       "    </tr>\n",
       "    <tr>\n",
       "      <th>25%</th>\n",
       "      <td>4.188096e+01</td>\n",
       "      <td>-8.766000e+01</td>\n",
       "      <td>4.188103e+01</td>\n",
       "      <td>-8.766027e+01</td>\n",
       "    </tr>\n",
       "    <tr>\n",
       "      <th>50%</th>\n",
       "      <td>4.189902e+01</td>\n",
       "      <td>-8.764403e+01</td>\n",
       "      <td>4.190000e+01</td>\n",
       "      <td>-8.764410e+01</td>\n",
       "    </tr>\n",
       "    <tr>\n",
       "      <th>75%</th>\n",
       "      <td>4.193000e+01</td>\n",
       "      <td>-8.762991e+01</td>\n",
       "      <td>4.193000e+01</td>\n",
       "      <td>-8.763000e+01</td>\n",
       "    </tr>\n",
       "    <tr>\n",
       "      <th>max</th>\n",
       "      <td>4.207000e+01</td>\n",
       "      <td>-8.746000e+01</td>\n",
       "      <td>4.218000e+01</td>\n",
       "      <td>0.000000e+00</td>\n",
       "    </tr>\n",
       "  </tbody>\n",
       "</table>\n",
       "</div>"
      ],
      "text/plain": [
       "          start_lat     start_lng       end_lat       end_lng\n",
       "count  5.719877e+06  5.719877e+06  5.712887e+06  5.712887e+06\n",
       "mean   4.190288e+01 -8.764704e+01  4.190322e+01 -8.764720e+01\n",
       "std    4.505556e-02  2.733412e-02  5.444371e-02  6.919621e-02\n",
       "min    4.163000e+01 -8.794000e+01  0.000000e+00 -8.816000e+01\n",
       "25%    4.188096e+01 -8.766000e+01  4.188103e+01 -8.766027e+01\n",
       "50%    4.189902e+01 -8.764403e+01  4.190000e+01 -8.764410e+01\n",
       "75%    4.193000e+01 -8.762991e+01  4.193000e+01 -8.763000e+01\n",
       "max    4.207000e+01 -8.746000e+01  4.218000e+01  0.000000e+00"
      ]
     },
     "execution_count": 8,
     "metadata": {},
     "output_type": "execute_result"
    }
   ],
   "source": [
    "#Statistically describe the data by describe funciton.\n",
    "tripdata.describe()"
   ]
  },
  {
   "cell_type": "code",
   "execution_count": 9,
   "metadata": {},
   "outputs": [
    {
     "name": "stdout",
     "output_type": "stream",
     "text": [
      "<class 'pandas.core.frame.DataFrame'>\n",
      "Index: 5719877 entries, 0 to 224072\n",
      "Data columns (total 13 columns):\n",
      " #   Column              Dtype  \n",
      "---  ------              -----  \n",
      " 0   ride_id             object \n",
      " 1   rideable_type       object \n",
      " 2   started_at          object \n",
      " 3   ended_at            object \n",
      " 4   start_station_name  object \n",
      " 5   start_station_id    object \n",
      " 6   end_station_name    object \n",
      " 7   end_station_id      object \n",
      " 8   start_lat           float64\n",
      " 9   start_lng           float64\n",
      " 10  end_lat             float64\n",
      " 11  end_lng             float64\n",
      " 12  member_casual       object \n",
      "dtypes: float64(4), object(9)\n",
      "memory usage: 610.9+ MB\n"
     ]
    }
   ],
   "source": [
    "#Checking the more infomation about data columns by using info() function\n",
    "tripdata.info()"
   ]
  },
  {
   "cell_type": "markdown",
   "metadata": {},
   "source": [
    "If the format of the data changes after running this code, I will assume that there were duplicate rows."
   ]
  },
  {
   "cell_type": "code",
   "execution_count": 10,
   "metadata": {},
   "outputs": [
    {
     "data": {
      "text/plain": [
       "(5719877, 13)"
      ]
     },
     "execution_count": 10,
     "metadata": {},
     "output_type": "execute_result"
    }
   ],
   "source": [
    "#Drop the duplicates. \n",
    "tripdata.drop_duplicates().shape"
   ]
  }
 ],
 "metadata": {
  "kernelspec": {
   "display_name": "Python 3",
   "language": "python",
   "name": "python3"
  },
  "language_info": {
   "codemirror_mode": {
    "name": "ipython",
    "version": 3
   },
   "file_extension": ".py",
   "mimetype": "text/x-python",
   "name": "python",
   "nbconvert_exporter": "python",
   "pygments_lexer": "ipython3",
   "version": "3.11.5"
  },
  "orig_nbformat": 4
 },
 "nbformat": 4,
 "nbformat_minor": 2
}
