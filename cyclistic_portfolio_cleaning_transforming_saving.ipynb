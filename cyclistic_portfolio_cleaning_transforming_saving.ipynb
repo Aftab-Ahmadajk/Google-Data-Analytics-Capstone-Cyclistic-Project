{
 "cells": [
  {
   "cell_type": "markdown",
   "metadata": {},
   "source": [
    "## **`Data Cleaning`**"
   ]
  },
  {
   "cell_type": "code",
   "execution_count": 11,
   "metadata": {},
   "outputs": [
    {
     "data": {
      "text/plain": [
       "ride_id                    0\n",
       "rideable_type              0\n",
       "started_at                 0\n",
       "ended_at                   0\n",
       "start_station_name    875716\n",
       "start_station_id      875848\n",
       "end_station_name      929202\n",
       "end_station_id        929343\n",
       "start_lat                  0\n",
       "start_lng                  0\n",
       "end_lat                 6990\n",
       "end_lng                 6990\n",
       "member_casual              0\n",
       "dtype: int64"
      ]
     },
     "execution_count": 11,
     "metadata": {},
     "output_type": "execute_result"
    }
   ],
   "source": [
    "# Find the missing values in each column of dataframe.\n",
    "tripdata.isnull().sum()"
   ]
  },
  {
   "cell_type": "code",
   "execution_count": 12,
   "metadata": {},
   "outputs": [
    {
     "data": {
      "text/plain": [
       "ride_id                0.000000\n",
       "rideable_type          0.000000\n",
       "started_at             0.000000\n",
       "ended_at               0.000000\n",
       "start_station_name    15.310049\n",
       "start_station_id      15.312357\n",
       "end_station_name      16.245140\n",
       "end_station_id        16.247605\n",
       "start_lat              0.000000\n",
       "start_lng              0.000000\n",
       "end_lat                0.122205\n",
       "end_lng                0.122205\n",
       "member_casual          0.000000\n",
       "dtype: float64"
      ]
     },
     "execution_count": 12,
     "metadata": {},
     "output_type": "execute_result"
    }
   ],
   "source": [
    "# Find the % of missing values in each column of dataframe.\n",
    "tripdata.isnull().sum()*100 / len(tripdata)"
   ]
  },
  {
   "cell_type": "markdown",
   "metadata": {},
   "source": [
    "The dataset has a large number of missing values ​​and the imputation of missing values ​​may be the result of data error in subsequent analyses, so I dropped missing values."
   ]
  },
  {
   "cell_type": "code",
   "execution_count": 13,
   "metadata": {},
   "outputs": [],
   "source": [
    "#Dropping the missing values from a dataset.\n",
    "tripdata.dropna(axis=0, inplace= True)\n"
   ]
  },
  {
   "cell_type": "code",
   "execution_count": 14,
   "metadata": {},
   "outputs": [
    {
     "data": {
      "text/plain": [
       "(4331707, 13)"
      ]
     },
     "execution_count": 14,
     "metadata": {},
     "output_type": "execute_result"
    }
   ],
   "source": [
    "# Check the shape of the data after removing na values.\n",
    "tripdata.shape"
   ]
  },
  {
   "cell_type": "markdown",
   "metadata": {},
   "source": [
    "I thoroughly analyzed the missing data and removed it. 1,388,170 rows were deleted."
   ]
  },
  {
   "cell_type": "markdown",
   "metadata": {},
   "source": [
    "## **Correcting and Transforming the Data**\n",
    "Assess the data and decided which data variables are most applicable."
   ]
  },
  {
   "cell_type": "markdown",
   "metadata": {},
   "source": [
    "### Create and Typecaste the variables.\n",
    "Typecasting of variables **started_at** & **ended_at** to **datetime** type is required  as I  calculate the length of each ride by subtracting the column \"started_at\"  from the column \"ended_at\". I  create duplicate column of started_at column name to it as **start_time** and change its data type as **datetime**."
   ]
  },
  {
   "cell_type": "code",
   "execution_count": 15,
   "metadata": {},
   "outputs": [
    {
     "name": "stdout",
     "output_type": "stream",
     "text": [
      "New variables have been created and successfully typecast.\n"
     ]
    }
   ],
   "source": [
    "# Change the name of colum 'started_at' to 'start_time' and type caste the data.\n",
    "tripdata['start_time'] = tripdata['started_at'].astype('datetime64[ns]')\n",
    "# Change the name of colum 'eneded_at' to 'end_time' and type caste the data.\n",
    "tripdata['end_time'] = tripdata['ended_at'].astype('datetime64[ns]')\n",
    "print('New variables have been created and successfully typecast.')"
   ]
  },
  {
   "cell_type": "markdown",
   "metadata": {},
   "source": [
    "### Rename the columns rideable_type and member_casual to make better sense."
   ]
  },
  {
   "cell_type": "code",
   "execution_count": 16,
   "metadata": {},
   "outputs": [
    {
     "name": "stdout",
     "output_type": "stream",
     "text": [
      "Columns have been successfully renamed.\n"
     ]
    }
   ],
   "source": [
    "# Renamed the column \"rideable_type\" as bike_type.\n",
    "tripdata.rename(columns={'rideable_type': 'bike_type'}, inplace=True)\n",
    "# Renamed the column \"member_casual\" as user_type.\n",
    "tripdata.rename(columns={'member_casual': 'user_type'}, inplace=True)\n",
    "print('Columns have been successfully renamed.')"
   ]
  },
  {
   "cell_type": "markdown",
   "metadata": {},
   "source": [
    "### Create a new column named as \"trip_duration\" that represents ride length in minutes."
   ]
  },
  {
   "cell_type": "code",
   "execution_count": 17,
   "metadata": {},
   "outputs": [
    {
     "name": "stdout",
     "output_type": "stream",
     "text": [
      "New Columns has been successfully created.\n"
     ]
    }
   ],
   "source": [
    "#Create a new columm 'trip_duration' by subtracting 'start_time column from 'end_time' column.\n",
    "tripdata['trip_duration'] = (tripdata['end_time']- tripdata['start_time'])\n",
    "#Representing the ride lengths in minutes.\n",
    "tripdata['trip_duration'] = np.round(tripdata['trip_duration'].dt.total_seconds() / 60, 2)\n",
    "print('New Columns has been successfully created.')"
   ]
  },
  {
   "cell_type": "markdown",
   "metadata": {},
   "source": [
    "### Creating new columns such as  \"month\", \"year\", \"day_of_week\", \"hour\" and change data type where required.These columns will helpful in better understanding of the overall patterns  or trends."
   ]
  },
  {
   "cell_type": "code",
   "execution_count": 18,
   "metadata": {},
   "outputs": [
    {
     "name": "stdout",
     "output_type": "stream",
     "text": [
      "New variables have been created and successfully typecast.\n"
     ]
    }
   ],
   "source": [
    "# Create a nonth column\n",
    "tripdata['month'] = tripdata['start_time'].dt.month_name()\n",
    "# Create a year column\n",
    "tripdata['year'] = tripdata['start_time'].dt.year\n",
    "# Create a day of week column\n",
    "tripdata['day_of_week'] = tripdata['start_time'].dt.day_name()\n",
    "# Create an hour column\n",
    "tripdata['hour'] = tripdata['start_time'].dt.hour\n",
    "# Create a new column for time in 12 hour format.\n",
    "tripdata['time_hour'] = pd.to_datetime(tripdata['start_time'],format= '%H').dt.time\n",
    "# Display the hour followed by the AM or PM indicator.\n",
    "tripdata['start_time_hour'] = tripdata['start_time'].apply(lambda x: x.strftime('%I:%p'))\n",
    "# Change the data type of columns\n",
    "tripdata = tripdata.astype({'year':'int16', 'hour':'int8'})\n",
    "print('New variables have been created and successfully typecast.')"
   ]
  },
  {
   "cell_type": "markdown",
   "metadata": {},
   "source": [
    "### Create a new column for seasons."
   ]
  },
  {
   "cell_type": "code",
   "execution_count": 19,
   "metadata": {},
   "outputs": [
    {
     "name": "stdout",
     "output_type": "stream",
     "text": [
      "New variable has been successfully created.\n"
     ]
    }
   ],
   "source": [
    "# Define function to map month to seasons\n",
    "def get_season(month):\n",
    "    if month in ['December', 'January', 'February']:\n",
    "        return 'Winter'\n",
    "    elif month in ['March', 'April', 'May']:\n",
    "        return 'Spring'\n",
    "    elif month in ['June', 'July', 'August']:\n",
    "        return 'Summer'\n",
    "    elif month in ['September', 'October', 'November']:\n",
    "        return 'Autumn'\n",
    "    else:\n",
    "        return 'Unknown'\n",
    "# Apply the function to create the \"Seasons\" column\n",
    "tripdata['seasons'] = tripdata['month'].apply(get_season)\n",
    "print('New variable has been successfully created.')"
   ]
  },
  {
   "cell_type": "markdown",
   "metadata": {},
   "source": [
    "### Create a new column to calculate distance covered by cyclistic's members"
   ]
  },
  {
   "cell_type": "code",
   "execution_count": 20,
   "metadata": {},
   "outputs": [
    {
     "name": "stdout",
     "output_type": "stream",
     "text": [
      "New variable has been successfully created.\n"
     ]
    }
   ],
   "source": [
    "# Function to calculate the distance between two points using Haversine formula\n",
    "def haversine(lat1, lon1, lat2, lon2):\n",
    "    # Radius of the Earth in km\n",
    "    R = 6371.0\n",
    "\n",
    "    # Convert latitude and longitude from degrees to radians\n",
    "    lat1 = np.radians(lat1)\n",
    "    lon1 = np.radians(lon1)\n",
    "    lat2 = np.radians(lat2)\n",
    "    lon2 = np.radians(lon2)\n",
    "\n",
    "    # Haversine formula\n",
    "    dlon = lon2 - lon1\n",
    "    dlat = lat2 - lat1\n",
    "\n",
    "    a = np.sin(dlat / 2)**2 + np.cos(lat1) * np.cos(lat2) * np.sin(dlon / 2)**2\n",
    "    c = 2 * np.arctan2(np.sqrt(a), np.sqrt(1 - a))\n",
    "\n",
    "    # Calculate the distance\n",
    "    distance = R * c\n",
    "\n",
    "    return distance\n",
    "# Calculate distance and add it to the DataFrame\n",
    "tripdata['distance_km'] = tripdata.apply(lambda row: haversine(row['start_lat'], row['start_lng'], row['end_lat'], row['end_lng']), axis=1)\n",
    "# Decrease decimal points using the round function\n",
    "tripdata['distance_km'] = tripdata['distance_km'].round(2)\n",
    "print('New variable has been successfully created.')"
   ]
  },
  {
   "cell_type": "code",
   "execution_count": 21,
   "metadata": {},
   "outputs": [
    {
     "data": {
      "text/html": [
       "<div>\n",
       "<style scoped>\n",
       "    .dataframe tbody tr th:only-of-type {\n",
       "        vertical-align: middle;\n",
       "    }\n",
       "\n",
       "    .dataframe tbody tr th {\n",
       "        vertical-align: top;\n",
       "    }\n",
       "\n",
       "    .dataframe thead th {\n",
       "        text-align: right;\n",
       "    }\n",
       "</style>\n",
       "<table border=\"1\" class=\"dataframe\">\n",
       "  <thead>\n",
       "    <tr style=\"text-align: right;\">\n",
       "      <th></th>\n",
       "      <th>ride_id</th>\n",
       "      <th>bike_type</th>\n",
       "      <th>started_at</th>\n",
       "      <th>ended_at</th>\n",
       "      <th>start_station_name</th>\n",
       "      <th>start_station_id</th>\n",
       "      <th>end_station_name</th>\n",
       "      <th>end_station_id</th>\n",
       "      <th>start_lat</th>\n",
       "      <th>start_lng</th>\n",
       "      <th>end_lat</th>\n",
       "      <th>end_lng</th>\n",
       "      <th>user_type</th>\n",
       "      <th>start_time</th>\n",
       "      <th>end_time</th>\n",
       "      <th>trip_duration</th>\n",
       "      <th>month</th>\n",
       "      <th>year</th>\n",
       "      <th>day_of_week</th>\n",
       "      <th>hour</th>\n",
       "      <th>time_hour</th>\n",
       "      <th>start_time_hour</th>\n",
       "      <th>seasons</th>\n",
       "      <th>distance_km</th>\n",
       "    </tr>\n",
       "  </thead>\n",
       "  <tbody>\n",
       "    <tr>\n",
       "      <th>0</th>\n",
       "      <td>F96D5A74A3E41399</td>\n",
       "      <td>electric_bike</td>\n",
       "      <td>2023-01-21 20:05:42</td>\n",
       "      <td>2023-01-21 20:16:33</td>\n",
       "      <td>Lincoln Ave &amp; Fullerton Ave</td>\n",
       "      <td>TA1309000058</td>\n",
       "      <td>Hampden Ct &amp; Diversey Ave</td>\n",
       "      <td>202480.0</td>\n",
       "      <td>41.924074</td>\n",
       "      <td>-87.646278</td>\n",
       "      <td>41.930000</td>\n",
       "      <td>-87.640000</td>\n",
       "      <td>member</td>\n",
       "      <td>2023-01-21 20:05:42</td>\n",
       "      <td>2023-01-21 20:16:33</td>\n",
       "      <td>10.85</td>\n",
       "      <td>January</td>\n",
       "      <td>2023</td>\n",
       "      <td>Saturday</td>\n",
       "      <td>20</td>\n",
       "      <td>20:05:42</td>\n",
       "      <td>08:PM</td>\n",
       "      <td>Winter</td>\n",
       "      <td>0.84</td>\n",
       "    </tr>\n",
       "    <tr>\n",
       "      <th>1</th>\n",
       "      <td>13CB7EB698CEDB88</td>\n",
       "      <td>classic_bike</td>\n",
       "      <td>2023-01-10 15:37:36</td>\n",
       "      <td>2023-01-10 15:46:05</td>\n",
       "      <td>Kimbark Ave &amp; 53rd St</td>\n",
       "      <td>TA1309000037</td>\n",
       "      <td>Greenwood Ave &amp; 47th St</td>\n",
       "      <td>TA1308000002</td>\n",
       "      <td>41.799568</td>\n",
       "      <td>-87.594747</td>\n",
       "      <td>41.809835</td>\n",
       "      <td>-87.599383</td>\n",
       "      <td>member</td>\n",
       "      <td>2023-01-10 15:37:36</td>\n",
       "      <td>2023-01-10 15:46:05</td>\n",
       "      <td>8.48</td>\n",
       "      <td>January</td>\n",
       "      <td>2023</td>\n",
       "      <td>Tuesday</td>\n",
       "      <td>15</td>\n",
       "      <td>15:37:36</td>\n",
       "      <td>03:PM</td>\n",
       "      <td>Winter</td>\n",
       "      <td>1.20</td>\n",
       "    </tr>\n",
       "    <tr>\n",
       "      <th>2</th>\n",
       "      <td>BD88A2E670661CE5</td>\n",
       "      <td>electric_bike</td>\n",
       "      <td>2023-01-02 07:51:57</td>\n",
       "      <td>2023-01-02 08:05:11</td>\n",
       "      <td>Western Ave &amp; Lunt Ave</td>\n",
       "      <td>RP-005</td>\n",
       "      <td>Valli Produce - Evanston Plaza</td>\n",
       "      <td>599</td>\n",
       "      <td>42.008571</td>\n",
       "      <td>-87.690483</td>\n",
       "      <td>42.039742</td>\n",
       "      <td>-87.699413</td>\n",
       "      <td>casual</td>\n",
       "      <td>2023-01-02 07:51:57</td>\n",
       "      <td>2023-01-02 08:05:11</td>\n",
       "      <td>13.23</td>\n",
       "      <td>January</td>\n",
       "      <td>2023</td>\n",
       "      <td>Monday</td>\n",
       "      <td>7</td>\n",
       "      <td>07:51:57</td>\n",
       "      <td>07:AM</td>\n",
       "      <td>Winter</td>\n",
       "      <td>3.54</td>\n",
       "    </tr>\n",
       "    <tr>\n",
       "      <th>3</th>\n",
       "      <td>C90792D034FED968</td>\n",
       "      <td>classic_bike</td>\n",
       "      <td>2023-01-22 10:52:58</td>\n",
       "      <td>2023-01-22 11:01:44</td>\n",
       "      <td>Kimbark Ave &amp; 53rd St</td>\n",
       "      <td>TA1309000037</td>\n",
       "      <td>Greenwood Ave &amp; 47th St</td>\n",
       "      <td>TA1308000002</td>\n",
       "      <td>41.799568</td>\n",
       "      <td>-87.594747</td>\n",
       "      <td>41.809835</td>\n",
       "      <td>-87.599383</td>\n",
       "      <td>member</td>\n",
       "      <td>2023-01-22 10:52:58</td>\n",
       "      <td>2023-01-22 11:01:44</td>\n",
       "      <td>8.77</td>\n",
       "      <td>January</td>\n",
       "      <td>2023</td>\n",
       "      <td>Sunday</td>\n",
       "      <td>10</td>\n",
       "      <td>10:52:58</td>\n",
       "      <td>10:AM</td>\n",
       "      <td>Winter</td>\n",
       "      <td>1.20</td>\n",
       "    </tr>\n",
       "    <tr>\n",
       "      <th>4</th>\n",
       "      <td>3397017529188E8A</td>\n",
       "      <td>classic_bike</td>\n",
       "      <td>2023-01-12 13:58:01</td>\n",
       "      <td>2023-01-12 14:13:20</td>\n",
       "      <td>Kimbark Ave &amp; 53rd St</td>\n",
       "      <td>TA1309000037</td>\n",
       "      <td>Greenwood Ave &amp; 47th St</td>\n",
       "      <td>TA1308000002</td>\n",
       "      <td>41.799568</td>\n",
       "      <td>-87.594747</td>\n",
       "      <td>41.809835</td>\n",
       "      <td>-87.599383</td>\n",
       "      <td>member</td>\n",
       "      <td>2023-01-12 13:58:01</td>\n",
       "      <td>2023-01-12 14:13:20</td>\n",
       "      <td>15.32</td>\n",
       "      <td>January</td>\n",
       "      <td>2023</td>\n",
       "      <td>Thursday</td>\n",
       "      <td>13</td>\n",
       "      <td>13:58:01</td>\n",
       "      <td>01:PM</td>\n",
       "      <td>Winter</td>\n",
       "      <td>1.20</td>\n",
       "    </tr>\n",
       "  </tbody>\n",
       "</table>\n",
       "</div>"
      ],
      "text/plain": [
       "            ride_id      bike_type           started_at             ended_at  \\\n",
       "0  F96D5A74A3E41399  electric_bike  2023-01-21 20:05:42  2023-01-21 20:16:33   \n",
       "1  13CB7EB698CEDB88   classic_bike  2023-01-10 15:37:36  2023-01-10 15:46:05   \n",
       "2  BD88A2E670661CE5  electric_bike  2023-01-02 07:51:57  2023-01-02 08:05:11   \n",
       "3  C90792D034FED968   classic_bike  2023-01-22 10:52:58  2023-01-22 11:01:44   \n",
       "4  3397017529188E8A   classic_bike  2023-01-12 13:58:01  2023-01-12 14:13:20   \n",
       "\n",
       "            start_station_name start_station_id  \\\n",
       "0  Lincoln Ave & Fullerton Ave     TA1309000058   \n",
       "1        Kimbark Ave & 53rd St     TA1309000037   \n",
       "2       Western Ave & Lunt Ave           RP-005   \n",
       "3        Kimbark Ave & 53rd St     TA1309000037   \n",
       "4        Kimbark Ave & 53rd St     TA1309000037   \n",
       "\n",
       "                 end_station_name end_station_id  start_lat  start_lng  \\\n",
       "0       Hampden Ct & Diversey Ave       202480.0  41.924074 -87.646278   \n",
       "1         Greenwood Ave & 47th St   TA1308000002  41.799568 -87.594747   \n",
       "2  Valli Produce - Evanston Plaza            599  42.008571 -87.690483   \n",
       "3         Greenwood Ave & 47th St   TA1308000002  41.799568 -87.594747   \n",
       "4         Greenwood Ave & 47th St   TA1308000002  41.799568 -87.594747   \n",
       "\n",
       "     end_lat    end_lng user_type          start_time            end_time  \\\n",
       "0  41.930000 -87.640000    member 2023-01-21 20:05:42 2023-01-21 20:16:33   \n",
       "1  41.809835 -87.599383    member 2023-01-10 15:37:36 2023-01-10 15:46:05   \n",
       "2  42.039742 -87.699413    casual 2023-01-02 07:51:57 2023-01-02 08:05:11   \n",
       "3  41.809835 -87.599383    member 2023-01-22 10:52:58 2023-01-22 11:01:44   \n",
       "4  41.809835 -87.599383    member 2023-01-12 13:58:01 2023-01-12 14:13:20   \n",
       "\n",
       "   trip_duration    month  year day_of_week  hour time_hour start_time_hour  \\\n",
       "0          10.85  January  2023    Saturday    20  20:05:42           08:PM   \n",
       "1           8.48  January  2023     Tuesday    15  15:37:36           03:PM   \n",
       "2          13.23  January  2023      Monday     7  07:51:57           07:AM   \n",
       "3           8.77  January  2023      Sunday    10  10:52:58           10:AM   \n",
       "4          15.32  January  2023    Thursday    13  13:58:01           01:PM   \n",
       "\n",
       "  seasons  distance_km  \n",
       "0  Winter         0.84  \n",
       "1  Winter         1.20  \n",
       "2  Winter         3.54  \n",
       "3  Winter         1.20  \n",
       "4  Winter         1.20  "
      ]
     },
     "execution_count": 21,
     "metadata": {},
     "output_type": "execute_result"
    }
   ],
   "source": [
    "# Set the display options to show all the columns of dataset.\n",
    "pd.set_option('display.max_columns', None)\n",
    "tripdata.head()"
   ]
  },
  {
   "cell_type": "code",
   "execution_count": 22,
   "metadata": {},
   "outputs": [
    {
     "data": {
      "text/plain": [
       "(4331707, 24)"
      ]
     },
     "execution_count": 22,
     "metadata": {},
     "output_type": "execute_result"
    }
   ],
   "source": [
    "tripdata.shape"
   ]
  },
  {
   "cell_type": "markdown",
   "metadata": {},
   "source": [
    "### Dropped the unnecessary data which is not  important for further data analysis. Thus, the system will take less time to execute further processes."
   ]
  },
  {
   "cell_type": "code",
   "execution_count": 23,
   "metadata": {},
   "outputs": [
    {
     "name": "stdout",
     "output_type": "stream",
     "text": [
      "Unnecessary variables have been uccessfully dropped.\n"
     ]
    }
   ],
   "source": [
    "# Dropped the unnecessary variables.\n",
    "tripdata.drop(['ride_id', 'start_station_id', 'end_station_id', 'started_at', 'ended_at', 'start_station_id', 'end_station_id','start_lat',\n",
    "               'start_lng', 'end_lat', 'end_lng', 'start_time', 'end_time',  'hour'], axis=1, inplace=True)\n",
    "print('Unnecessary variables have been uccessfully dropped.')"
   ]
  },
  {
   "cell_type": "markdown",
   "metadata": {},
   "source": [
    "The trip duration column is very important to the analysis, I check anomalies carefully."
   ]
  },
  {
   "cell_type": "code",
   "execution_count": 24,
   "metadata": {},
   "outputs": [
    {
     "data": {
      "text/plain": [
       "count    4.331707e+06\n",
       "mean     1.595184e+01\n",
       "std      3.608720e+01\n",
       "min     -5.457000e+01\n",
       "25%      5.620000e+00\n",
       "50%      9.800000e+00\n",
       "75%      1.748000e+01\n",
       "max      1.213630e+04\n",
       "Name: trip_duration, dtype: float64"
      ]
     },
     "execution_count": 24,
     "metadata": {},
     "output_type": "execute_result"
    }
   ],
   "source": [
    "#Check the description of trip duration column\n",
    "tripdata['trip_duration'].describe(include = \"all\")"
   ]
  },
  {
   "cell_type": "markdown",
   "metadata": {},
   "source": [
    "The function shows that the data frame also contains negative values which need to be removed."
   ]
  },
  {
   "cell_type": "markdown",
   "metadata": {},
   "source": [
    "### Check the Outliers.\n",
    "The some of the best ways to identify the presence of outliers in data are **box plot** and **histogram**.  "
   ]
  },
  {
   "cell_type": "code",
   "execution_count": 25,
   "metadata": {},
   "outputs": [
    {
     "data": {
      "image/png": "[encoded data removed]",
      "text/plain": [
       "<Figure size 1000x500 with 1 Axes>"
      ]
     },
     "metadata": {},
     "output_type": "display_data"
    }
   ],
   "source": [
    "# Create Box plot for trip duration column, to check how the data is organizaed.\n",
    "plt.figure(figsize=(10,5))\n",
    "ax = sns.boxplot(data= tripdata, x= 'user_type', y= 'trip_duration')\n",
    "plt.title('Trip Duration in Minutes')\n",
    "plt.show()"
   ]
  },
  {
   "cell_type": "markdown",
   "metadata": {},
   "source": [
    "While it may be tempting to label the longer trip durations of casual members as outliers, it is important to recognize that Cyclistic Bike Share has systematically recorded these durations. Additionally, it is evident that casual members have made payments for Cyclistic's services. Therefore, not all longer rides can be categorized as outliers. However, it is reasonable to consider trips with negative values less than minute as outliers and exclude them from the data."
   ]
  },
  {
   "cell_type": "code",
   "execution_count": 28,
   "metadata": {},
   "outputs": [
    {
     "data": {
      "image/png": "[encoded data removed]",
      "text/plain": [
       "<Figure size 1400x600 with 1 Axes>"
      ]
     },
     "metadata": {},
     "output_type": "display_data"
    }
   ],
   "source": [
    "# Create histogram to show the distribution of data.\n",
    "plt.figure(figsize=(14,6))\n",
    "ax = sns.histplot(tripdata['trip_duration'],  bins = range(-5,51,1))\n",
    "ax.set_xticks(range(-5,51,1))\n",
    "ax.set_xlabel(\"Trip Duration in Minutes\")\n",
    "plt.title('Total Count of Trip Duration')\n",
    "plt.show()"
   ]
  },
  {
   "cell_type": "markdown",
   "metadata": {},
   "source": [
    "Based on the provided visualization, it is evident that the majority of trip durations fall within the range of 3 to 14 minutes."
   ]
  },
  {
   "cell_type": "markdown",
   "metadata": {},
   "source": [
    "## Removed the outliers."
   ]
  },
  {
   "cell_type": "code",
   "execution_count": 31,
   "metadata": {},
   "outputs": [],
   "source": [
    "# Filter rows where 'trip duration' is less than 1 minute and reset the column index\n",
    "tripdata = tripdata[(tripdata['trip_duration'] > 0)]\n",
    "tripdata = tripdata.reset_index()\n",
    "# Drop the 'index' column\n",
    "tripdata = tripdata.drop(columns=['index'])"
   ]
  },
  {
   "cell_type": "code",
   "execution_count": 32,
   "metadata": {},
   "outputs": [
    {
     "data": {
      "text/plain": [
       "count    4.331138e+06\n",
       "mean     1.595427e+01\n",
       "std      3.608875e+01\n",
       "min      2.000000e-02\n",
       "25%      5.620000e+00\n",
       "50%      9.800000e+00\n",
       "75%      1.748000e+01\n",
       "max      1.213630e+04\n",
       "Name: trip_duration, dtype: float64"
      ]
     },
     "execution_count": 32,
     "metadata": {},
     "output_type": "execute_result"
    }
   ],
   "source": [
    "#Check the description of 'trip duration column after removing outliers\n",
    "tripdata[\"trip_duration\"].describe(include = \"all\")"
   ]
  },
  {
   "cell_type": "markdown",
   "metadata": {},
   "source": [
    "Describe function shows that there is a huge variation in between third and fourth quartile."
   ]
  },
  {
   "cell_type": "code",
   "execution_count": 33,
   "metadata": {},
   "outputs": [
    {
     "data": {
      "image/png": "[encoded data removed]",
      "text/plain": [
       "<Figure size 1600x600 with 1 Axes>"
      ]
     },
     "metadata": {},
     "output_type": "display_data"
    }
   ],
   "source": [
    "# Create histogram of to show the distribution of trips after removing outliers\n",
    "plt.figure(figsize=(16,6))\n",
    "ax = sns.histplot(tripdata['trip_duration'],  bins = range(-1,51,1))\n",
    "ax.set_xticks(range(-1,51,1))\n",
    "ax.set_xlabel(\"Trip Duration in Minutes\")\n",
    "plt.title('Total Count of Trips')\n",
    "plt.show()"
   ]
  },
  {
   "cell_type": "markdown",
   "metadata": {},
   "source": [
    "Above histogram shows that the data has a right-skewed distribution."
   ]
  },
  {
   "cell_type": "code",
   "execution_count": 34,
   "metadata": {},
   "outputs": [
    {
     "name": "stdout",
     "output_type": "stream",
     "text": [
      "Dataset exported as CSV file successfully.\n"
     ]
    }
   ],
   "source": [
    "#Save the Cleaned data into CSV file in hard drive for analysis )\n",
    "tripdata.to_csv('cyclistic_cleaned_final_data.csv', index=False)\n",
    "print(\"Dataset exported as CSV file successfully.\")"
   ]
  }
 ],
 "metadata": {
  "kernelspec": {
   "display_name": "Python 3",
   "language": "python",
   "name": "python3"
  },
  "language_info": {
   "codemirror_mode": {
    "name": "ipython",
    "version": 3
   },
   "file_extension": ".py",
   "mimetype": "text/x-python",
   "name": "python",
   "nbconvert_exporter": "python",
   "pygments_lexer": "ipython3",
   "version": "3.11.5"
  },
  "orig_nbformat": 4
 },
 "nbformat": 4,
 "nbformat_minor": 2
}
